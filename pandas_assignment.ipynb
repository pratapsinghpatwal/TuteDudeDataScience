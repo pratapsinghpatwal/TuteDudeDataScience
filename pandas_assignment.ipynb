{
 "cells": [
  {
   "cell_type": "markdown",
   "id": "18b8866e",
   "metadata": {},
   "source": [
    "1. Create a DataFrame\n",
    "  - a. Print the first five rows of the DataFrame.  \n",
    "  - b. Get the summary statistics of the 'Age' and 'Salary' columns.  \n",
    "  - c. Calculate the average salary of employees in the 'HR' department.\n"
   ]
  },
  {
   "cell_type": "code",
   "execution_count": 6,
   "id": "14804a0c",
   "metadata": {},
   "outputs": [
    {
     "name": "stdout",
     "output_type": "stream",
     "text": [
      "First Five rows of the data \n",
      ":       Name  Age Department  Salary\n",
      "0    Alice   24         HR   45000\n",
      "1      Bob   27    Finance   54000\n",
      "2  Charlie   22         IT   50000\n",
      "3    Diana   32  Marketing   62000\n",
      "4      Eve   29         HR   47000\n",
      "\n",
      "Summary statistics for 'Age' and 'Salary':\n",
      "              Age        Salary\n",
      "count   5.000000      5.000000\n",
      "mean   26.800000  51600.000000\n",
      "std     3.962323   6730.527468\n",
      "min    22.000000  45000.000000\n",
      "25%    24.000000  47000.000000\n",
      "50%    27.000000  50000.000000\n",
      "75%    29.000000  54000.000000\n",
      "max    32.000000  62000.000000\n",
      "\n",
      "Average salary in HR department: 46000.0\n"
     ]
    }
   ],
   "source": [
    "import pandas as pd\n",
    "import numpy as np\n",
    "\n",
    "data = {\n",
    "      'Name': ['Alice', 'Bob', 'Charlie', 'Diana', 'Eve'],\n",
    "      'Age': [24, 27, 22, 32, 29],\n",
    "      'Department': ['HR', 'Finance', 'IT', 'Marketing', 'HR'],\n",
    "      'Salary': [45000, 54000, 50000, 62000, 47000]\n",
    "    }\n",
    "\n",
    "df = pd.DataFrame(data)\n",
    "\n",
    "print(\"First Five rows of the data \\n:\", df.head())\n",
    "\n",
    "summary_stats = df[['Age', 'Salary']].describe()\n",
    "print(\"\\nSummary statistics for 'Age' and 'Salary':\\n\", summary_stats)\n",
    "\n",
    "avg_hr_salary = df[df['Department'] == 'HR']['Salary'].mean()\n",
    "print(\"\\nAverage salary in HR department:\", avg_hr_salary)"
   ]
  },
  {
   "cell_type": "markdown",
   "id": "70e78a05",
   "metadata": {},
   "source": [
    "2. Add a new column, 'Bonus', which is 10% of the salary."
   ]
  },
  {
   "cell_type": "code",
   "execution_count": 7,
   "id": "bb76c52e",
   "metadata": {},
   "outputs": [
    {
     "name": "stdout",
     "output_type": "stream",
     "text": [
      "DataFrame with Bonus column:\n",
      "       Name  Age Department  Salary   Bonus\n",
      "0    Alice   24         HR   45000  4500.0\n",
      "1      Bob   27    Finance   54000  5400.0\n",
      "2  Charlie   22         IT   50000  5000.0\n",
      "3    Diana   32  Marketing   62000  6200.0\n",
      "4      Eve   29         HR   47000  4700.0\n"
     ]
    }
   ],
   "source": [
    "# Add 'Bonus' column as 10% of 'Salary'\n",
    "df['Bonus'] = df['Salary'] * 0.10\n",
    "\n",
    "# Display updated DataFrame\n",
    "print(\"DataFrame with Bonus column:\\n\", df)"
   ]
  },
  {
   "cell_type": "markdown",
   "id": "5dc84298",
   "metadata": {},
   "source": [
    "3. Filter the DataFrame to show employees aged between 25 and 30."
   ]
  },
  {
   "cell_type": "code",
   "execution_count": 8,
   "id": "4e5e1a3c",
   "metadata": {},
   "outputs": [
    {
     "name": "stdout",
     "output_type": "stream",
     "text": [
      "Employees aged between 25 and 30:\n",
      "   Name  Age Department  Salary   Bonus\n",
      "1  Bob   27    Finance   54000  5400.0\n",
      "4  Eve   29         HR   47000  4700.0\n"
     ]
    }
   ],
   "source": [
    "# Filter employees aged between 25 and 30\n",
    "filtered_df = df[(df['Age'] >= 25) & (df['Age'] <= 30)]\n",
    "\n",
    "# Display the filtered DataFrame\n",
    "print(\"Employees aged between 25 and 30:\\n\", filtered_df)\n"
   ]
  },
  {
   "cell_type": "markdown",
   "id": "7b7783fa",
   "metadata": {},
   "source": [
    "4. Group the data by 'Department' and calculate the average salary for each department."
   ]
  },
  {
   "cell_type": "code",
   "execution_count": 9,
   "id": "cf43424d",
   "metadata": {},
   "outputs": [
    {
     "name": "stdout",
     "output_type": "stream",
     "text": [
      "Average salary by department:\n",
      " Department\n",
      "Finance      54000.0\n",
      "HR           46000.0\n",
      "IT           50000.0\n",
      "Marketing    62000.0\n",
      "Name: Salary, dtype: float64\n"
     ]
    }
   ],
   "source": [
    "# Group by 'Department' and calculate average salary\n",
    "avg_salary_by_dept = df.groupby('Department')['Salary'].mean()\n",
    "\n",
    "# Display the result\n",
    "print(\"Average salary by department:\\n\", avg_salary_by_dept)\n"
   ]
  },
  {
   "cell_type": "markdown",
   "id": "fa6e603f",
   "metadata": {},
   "source": [
    "5. Sort the DataFrame by 'Salary' in ascending order and save the result to a new CSV file. "
   ]
  },
  {
   "cell_type": "code",
   "execution_count": 10,
   "id": "1d45ebf4",
   "metadata": {},
   "outputs": [
    {
     "name": "stdout",
     "output_type": "stream",
     "text": [
      "Sorted DataFrame by Salary (ascending):\n",
      "       Name  Age Department  Salary   Bonus\n",
      "0    Alice   24         HR   45000  4500.0\n",
      "4      Eve   29         HR   47000  4700.0\n",
      "2  Charlie   22         IT   50000  5000.0\n",
      "1      Bob   27    Finance   54000  5400.0\n",
      "3    Diana   32  Marketing   62000  6200.0\n"
     ]
    }
   ],
   "source": [
    "# Sort by 'Salary' in ascending order\n",
    "sorted_df = df.sort_values(by='Salary', ascending=True)\n",
    "\n",
    "# Save to a new CSV file\n",
    "sorted_df.to_csv('sorted_employees_by_salary.csv', index=False)\n",
    "\n",
    "# Display the sorted DataFrame\n",
    "print(\"Sorted DataFrame by Salary (ascending):\\n\", sorted_df)\n"
   ]
  }
 ],
 "metadata": {
  "kernelspec": {
   "display_name": "Python 3",
   "language": "python",
   "name": "python3"
  },
  "language_info": {
   "codemirror_mode": {
    "name": "ipython",
    "version": 3
   },
   "file_extension": ".py",
   "mimetype": "text/x-python",
   "name": "python",
   "nbconvert_exporter": "python",
   "pygments_lexer": "ipython3",
   "version": "3.13.3"
  }
 },
 "nbformat": 4,
 "nbformat_minor": 5
}
