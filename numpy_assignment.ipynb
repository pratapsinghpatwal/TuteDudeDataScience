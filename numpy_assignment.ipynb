{
 "cells": [
  {
   "cell_type": "markdown",
   "id": "0ce1218c",
   "metadata": {},
   "source": [
    "1. Create a 1D NumPy array with integers from 1 to 20. Perform the following operations:  \n",
    "  a. Calculate the sum, mean, median, and standard deviation of the elements in the array.  \n",
    "  b. Find the indices of elements greater than 10 in the array.  \n"
   ]
  },
  {
   "cell_type": "code",
   "execution_count": 6,
   "id": "f36d3cd0",
   "metadata": {},
   "outputs": [
    {
     "name": "stdout",
     "output_type": "stream",
     "text": [
      "Array: [ 1  2  3  4  5  6  7  8  9 10 11 12 13 14 15 16 17 18 19 20]\n",
      "Sum: 210\n",
      "Mean: 10.5\n",
      "Median: 10.5\n",
      "Standard Deviation: 5.766281297335398\n",
      "Indices of elements > 10: [10 11 12 13 14 15 16 17 18 19]\n"
     ]
    }
   ],
   "source": [
    "import numpy as np\n",
    "\n",
    "# Create a 1D NumPy array with integers from 1 to 20\n",
    "arr = np.arange(1, 21)\n",
    "\n",
    "# a. Calculate sum, mean, median, and standard deviation\n",
    "arr_sum = np.sum(arr)\n",
    "arr_mean = np.mean(arr)\n",
    "arr_median = np.median(arr)\n",
    "arr_std = np.std(arr)\n",
    "\n",
    "# b. Find indices of elements greater than 10\n",
    "indices = np.where(arr > 10)[0]\n",
    "\n",
    "# Display results\n",
    "print(\"Array:\", arr)\n",
    "print(\"Sum:\", arr_sum)\n",
    "print(\"Mean:\", arr_mean)\n",
    "print(\"Median:\", arr_median)\n",
    "print(\"Standard Deviation:\", arr_std)\n",
    "print(\"Indices of elements > 10:\", indices)"
   ]
  },
  {
   "cell_type": "markdown",
   "id": "b3e27300",
   "metadata": {},
   "source": [
    "2. Create a 2D NumPy array of shape 4 X 4 with numbers ranging from 1 to 16.  \n",
    "  a. Print the array.  \n",
    "  b. Find the transpose of the array.  \n",
    "  c. Calculate the row-wise and column-wise sums of the array. "
   ]
  },
  {
   "cell_type": "code",
   "execution_count": 14,
   "id": "c837c494",
   "metadata": {},
   "outputs": [
    {
     "name": "stdout",
     "output_type": "stream",
     "text": [
      "Original 4x4 Array:\n",
      " [[ 1  2  3  4]\n",
      " [ 5  6  7  8]\n",
      " [ 9 10 11 12]\n",
      " [13 14 15 16]]\n",
      "Transpose of original Array:\n",
      " [[ 1  5  9 13]\n",
      " [ 2  6 10 14]\n",
      " [ 3  7 11 15]\n",
      " [ 4  8 12 16]]\n",
      "Row sum of the original Array: [10 26 42 58]\n",
      "Column sum of the original Array: [28 32 36 40]\n"
     ]
    }
   ],
   "source": [
    "# 2. Create a 2D NumPy array of shape 4 X 4 with numbers ranging from 1 to 16.\n",
    "arr_2d = np.arange(1,17).reshape(4,4)\n",
    "\n",
    "# a. Print the array.\n",
    "print(\"Original 4x4 Array:\\n\", arr_2d)\n",
    "\n",
    "# b. Find the transpose of the array. \n",
    "transpose = arr_2d.T\n",
    "print(\"Transpose of original Array:\\n\", transpose)\n",
    "\n",
    "# c. Calculate the row-wise and column-wise sums of the array. \n",
    "row_sum = np.sum(arr_2d, axis=1)\n",
    "col_sum = np.sum(arr_2d, axis=0)\n",
    "print(\"Row sum of the original Array:\", row_sum)\n",
    "print(\"Column sum of the original Array:\", col_sum)"
   ]
  },
  {
   "cell_type": "markdown",
   "id": "176ddbe6",
   "metadata": {},
   "source": [
    "3. Create two 3 X 3 arrays filled with random integers between 1 and 20.  \n",
    "  a. Perform element-wise addition, subtraction, and multiplication.  \n",
    "  b. Compute the dot product of the two arrays.\n"
   ]
  },
  {
   "cell_type": "code",
   "execution_count": null,
   "id": "fdc866b5",
   "metadata": {},
   "outputs": [
    {
     "name": "stdout",
     "output_type": "stream",
     "text": [
      "Array A:\n",
      " [[13 16  1]\n",
      " [ 4  4  8]\n",
      " [10 20 19]]\n",
      "\n",
      "Array B:\n",
      " [[ 5  7 13]\n",
      " [ 2  7  8]\n",
      " [15 18  6]]\n",
      "\n",
      "Element-wise Addition:\n",
      " [[18 23 14]\n",
      " [ 6 11 16]\n",
      " [25 38 25]]\n",
      "\n",
      "Element-wise Subtraction:\n",
      " [[  8   9 -12]\n",
      " [  2  -3   0]\n",
      " [ -5   2  13]]\n",
      "\n",
      "Element-wise Multiplication:\n",
      " [[ 65 112  13]\n",
      " [  8  28  64]\n",
      " [150 360 114]]\n",
      "\n",
      "Dot Product:\n",
      " [[112 221 303]\n",
      " [148 200 132]\n",
      " [375 552 404]]\n"
     ]
    }
   ],
   "source": [
    "np.random.seed(0)\n",
    "\n",
    "# Create two 3x3 arrays with random integers between 1 and 20\n",
    "A = np.random.randint(1, 21, size=(3, 3))\n",
    "B = np.random.randint(1, 21, size=(3, 3))\n",
    "\n",
    "# a. Element-wise operations\n",
    "add_result = A + B\n",
    "sub_result = A - B\n",
    "mul_result = A * B  \n",
    "\n",
    "# b. Dot product\n",
    "dot_product = np.dot(A, B)\n",
    "\n",
    "# Display results\n",
    "print(\"Array A:\\n\", A)\n",
    "print(\"\\nArray B:\\n\", B)\n",
    "print(\"\\nElement-wise Addition:\\n\", add_result)\n",
    "print(\"\\nElement-wise Subtraction:\\n\", sub_result)\n",
    "print(\"\\nElement-wise Multiplication:\\n\", mul_result)\n",
    "print(\"\\nDot Product:\\n\", dot_product)"
   ]
  },
  {
   "cell_type": "markdown",
   "id": "9156986b",
   "metadata": {},
   "source": [
    "4. Reshape a 1D array of size 12 into a 3 X 4 2D array and slice the first two rows and last two columns."
   ]
  },
  {
   "cell_type": "code",
   "execution_count": 16,
   "id": "da39c9e4",
   "metadata": {},
   "outputs": [
    {
     "name": "stdout",
     "output_type": "stream",
     "text": [
      "Original 1D Array: [ 1  2  3  4  5  6  7  8  9 10 11 12]\n",
      "\n",
      "Reshaped 3x4 Array:\n",
      " [[ 1  2  3  4]\n",
      " [ 5  6  7  8]\n",
      " [ 9 10 11 12]]\n",
      "\n",
      "Sliced Array (first 2 rows, last 2 columns):\n",
      " [[3 4]\n",
      " [7 8]]\n"
     ]
    }
   ],
   "source": [
    "# Create a 1D array of size 12\n",
    "arr_1d = np.arange(1, 13)\n",
    "\n",
    "# Reshape it into a 3x4 2D array\n",
    "arr_2d = arr_1d.reshape(3, 4)\n",
    "\n",
    "# Slice the first two rows and last two columns\n",
    "sliced = arr_2d[:2, -2:]\n",
    "\n",
    "# Display results\n",
    "print(\"Original 1D Array:\", arr_1d)\n",
    "print(\"\\nReshaped 3x4 Array:\\n\", arr_2d)\n",
    "print(\"\\nSliced Array (first 2 rows, last 2 columns):\\n\", sliced)"
   ]
  }
 ],
 "metadata": {
  "kernelspec": {
   "display_name": "Python 3",
   "language": "python",
   "name": "python3"
  },
  "language_info": {
   "codemirror_mode": {
    "name": "ipython",
    "version": 3
   },
   "file_extension": ".py",
   "mimetype": "text/x-python",
   "name": "python",
   "nbconvert_exporter": "python",
   "pygments_lexer": "ipython3",
   "version": "3.13.3"
  }
 },
 "nbformat": 4,
 "nbformat_minor": 5
}
