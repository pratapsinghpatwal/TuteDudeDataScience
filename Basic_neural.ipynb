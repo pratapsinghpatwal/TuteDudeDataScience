{
 "cells": [
  {
   "cell_type": "markdown",
   "id": "4bc10923",
   "metadata": {},
   "source": [
    "### Data Preparation\n",
    "- We import Numpy for matrix operations and Matplotlib for plotting graphs and visualizing images."
   ]
  },
  {
   "cell_type": "code",
   "execution_count": 1,
   "id": "47b6779d",
   "metadata": {},
   "outputs": [],
   "source": [
    "import numpy as np\n",
    "import matplotlib.pyplot as plt"
   ]
  },
  {
   "cell_type": "markdown",
   "id": "ed80ceb2",
   "metadata": {},
   "source": [
    "### Defining the Pixel Patterns\n",
    "- In This I have defined the pixel patterns for A,B and C. Each letter is represented in a 5x6 grid, flattened into a 1D list of 30 elements"
   ]
  },
  {
   "cell_type": "code",
   "execution_count": 26,
   "id": "0706db1b",
   "metadata": {},
   "outputs": [],
   "source": [
    "A = [0,0,1,1,0,0,\n",
    "     0,1,0,0,1,0,\n",
    "     1,1,1,1,1,1,\n",
    "     1,0,0,0,0,1,\n",
    "     1,0,0,0,0,1]\n",
    "\n",
    "B = [1,1,1,1,1,0,\n",
    "     1,0,0,0,0,1,\n",
    "     1,1,1,1,1,0,\n",
    "     1,0,0,0,0,1,\n",
    "     1,1,1,1,1,0]\n",
    "\n",
    "C = [0,1,1,1,1,1,\n",
    "     1,0,0,0,0,0,\n",
    "     1,0,0,0,0,0,\n",
    "     1,0,0,0,0,0,\n",
    "     0,1,1,1,1,1]\n",
    "\n",
    "# In above array I have created a array where 0's are blank spaces and 1's are pixel for characters"
   ]
  },
  {
   "cell_type": "markdown",
   "id": "b2873b8f",
   "metadata": {},
   "source": [
    "### Inputs (x) and Ouputs (y)\n",
    "- x contains the pixel data of the letters.\n",
    "- y is the one-hot encoded label:\n",
    "  - [1, 0, 0] for A\n",
    "  - [0, 1, 0] for B\n",
    "  - [0, 0, 1] for C "
   ]
  },
  {
   "cell_type": "code",
   "execution_count": 4,
   "id": "e276086d",
   "metadata": {},
   "outputs": [],
   "source": [
    "x = np.array([A, B, C])\n",
    "y = np.array([[1,0,0],\n",
    "              [0,1,0],\n",
    "              [0,0,1]])"
   ]
  },
  {
   "cell_type": "markdown",
   "id": "ba6578f3",
   "metadata": {},
   "source": [
    "### Neural Network Parameters\n",
    "- The network has:\n",
    "  - 30 inputs(pixels)\n",
    "  - 10 neurons in the hidden layers\n",
    "  - 3 outputs ( one for each letter)\n",
    "  - Learning rate of 0.1 for weight updates\n",
    "  - 1000 epochs for training"
   ]
  },
  {
   "cell_type": "code",
   "execution_count": 5,
   "id": "8b349545",
   "metadata": {},
   "outputs": [],
   "source": [
    "input_size = 30\n",
    "hidden_size = 10\n",
    "output_size = 3\n",
    "learning_rate = 0.1\n",
    "epochs = 1000"
   ]
  },
  {
   "cell_type": "markdown",
   "id": "bd802239",
   "metadata": {},
   "source": [
    "### Weight Initialization\n",
    "- I have initialized:\n",
    "  - W1, W2: Random weights for the connections\n",
    "  - b1, b2: Bias terms intialzed to zero"
   ]
  },
  {
   "cell_type": "code",
   "execution_count": 6,
   "id": "1d4c0a88",
   "metadata": {},
   "outputs": [],
   "source": [
    "np.random.seed(30)\n",
    "W1 = np.random.randn(input_size, hidden_size)\n",
    "b1 = np.zeros((1, hidden_size))\n",
    "W2 = np.random.randn(hidden_size, output_size)\n",
    "b2 = np.zeros((1, output_size))"
   ]
  },
  {
   "cell_type": "markdown",
   "id": "5d19f4ec",
   "metadata": {},
   "source": [
    "### Activation Function and Its Derivative\n",
    "- sigmoid is used as the activation function. \n",
    "- Its derivative is required for backpropagation"
   ]
  },
  {
   "cell_type": "code",
   "execution_count": 7,
   "id": "4c15de06",
   "metadata": {},
   "outputs": [],
   "source": [
    "def sigmoid(x):\n",
    "    return 1 / ( 1 + np.exp( -x ) )\n",
    "\n",
    "def sigmoid_derivative(x):\n",
    "    return x * ( 1 - x )"
   ]
  },
  {
   "cell_type": "markdown",
   "id": "e1a76de4",
   "metadata": {},
   "source": [
    "### Forward Propogation Logic\n",
    "- Forward Propogation steps:\n",
    "  - z1 : Linear combination of inputs and weights for the hidden layer.\n",
    "  - a1 : Apply sigmoid to z1 (activation output)\n",
    "  - z2 : Linear combination for the output layer\n",
    "  - a2 : Final perdiction after applying sigmoid"
   ]
  },
  {
   "cell_type": "code",
   "execution_count": null,
   "id": "905aefe5",
   "metadata": {},
   "outputs": [],
   "source": [
    "def forward_propagation(X):\n",
    "    z1 = np.dot(x, W1) + b1\n",
    "    a1 = sigmoid(z1)\n",
    "    z2 = np.dot(a1, W2) + b2\n",
    "    a2 = sigmoid(z2)\n",
    "    return z1, a1, z2, a2"
   ]
  },
  {
   "cell_type": "markdown",
   "id": "43e5af8b",
   "metadata": {},
   "source": [
    "### Loss Function\n",
    "- I have used the Mean Squared Error (MSE) to measure the diffrence between predicted and actual outputs."
   ]
  },
  {
   "cell_type": "code",
   "execution_count": 11,
   "id": "c190b8f0",
   "metadata": {},
   "outputs": [],
   "source": [
    "def computed_loss (y_true, y_pred):\n",
    "    return np.mean((y_true - y_pred) ** 2)"
   ]
  },
  {
   "cell_type": "markdown",
   "id": "a6a9ea85",
   "metadata": {},
   "source": [
    "### Backpropogation Logic\n",
    "- This is where the most logic takes place :\n",
    "  - Calculating the error for the output\n",
    "  - Propoagate the error back to the hidden layer\n",
    "  - Update the weights and biases based on the gradient"
   ]
  },
  {
   "cell_type": "code",
   "execution_count": null,
   "id": "28a2063f",
   "metadata": {},
   "outputs": [],
   "source": [
    "def back_propagation (x, y, z1, a1, z2, a2):\n",
    "    global W1, b1, W2, b2\n",
    "\n",
    "    #Output Layer error\n",
    "    error_output = a2 - y\n",
    "    delta_output = error_output *sigmoid_derivative(a2)\n",
    "\n",
    "    #Hidden layer error\n",
    "    error_hidden = np.dot(delta_output, W2.T)\n",
    "    delta_hidden = error_hidden * sigmoid_derivative(a1)\n",
    "\n",
    "    #Update weights and biases\n",
    "    W2 -= learning_rate *np.dot(a1.T, delta_output)\n",
    "    b2 -= learning_rate *np.sum(delta_output, axis = 0, keepdims=True)\n",
    "    W1 -= learning_rate *np.dot(x.T, delta_hidden)\n",
    "    b1 -= learning_rate *np.sum(delta_hidden, axis = 0, keepdims=True)"
   ]
  },
  {
   "cell_type": "markdown",
   "id": "13ae4efe",
   "metadata": {},
   "source": [
    "### Training Loop\n",
    "- Perform forward propagation\n",
    "- Compute the loss \n",
    "- Run backpropagation\n",
    "- Store the loss to plot later"
   ]
  },
  {
   "cell_type": "code",
   "execution_count": 17,
   "id": "037ae5e4",
   "metadata": {},
   "outputs": [],
   "source": [
    "losses = []\n",
    "for epoch in range (epochs):\n",
    "    z1,a1,z2,a2 = forward_propagation(x)\n",
    "    loss = computed_loss(y, a2)\n",
    "    losses.append(loss)\n",
    "    back_propagation(x, y, z1,a1,z2,a2)"
   ]
  },
  {
   "cell_type": "markdown",
   "id": "e49ca72e",
   "metadata": {},
   "source": [
    "### Plotting Loss Curve\n",
    "- Visualize how to the loss decrease over time, indicating learning."
   ]
  },
  {
   "cell_type": "code",
   "execution_count": 18,
   "id": "2128e109",
   "metadata": {},
   "outputs": [
    {
     "data": {
      "image/png": "[encoded data removed]",
      "text/plain": [
       "<Figure size 640x480 with 1 Axes>"
      ]
     },
     "metadata": {},
     "output_type": "display_data"
    }
   ],
   "source": [
    "plt.plot(losses)\n",
    "plt.title(\"Loss over Epochs\")\n",
    "plt.xlabel(\"Epoch\")\n",
    "plt.ylabel(\"Loss\")\n",
    "plt.show()"
   ]
  },
  {
   "cell_type": "markdown",
   "id": "4b4a3284",
   "metadata": {},
   "source": [
    "### Prediction and Display Logic\n",
    "- The predict function\n",
    "  - Runs forward propagation for the given image\n",
    "  - Determines the class (A, B, or C)\n",
    "  - Displays the images and the predicted label."
   ]
  },
  {
   "cell_type": "code",
   "execution_count": 22,
   "id": "0550f804",
   "metadata": {},
   "outputs": [],
   "source": [
    "def predict(image):\n",
    "    _, _, _, output = forward_propagation(image.reshape(1,-1))\n",
    "    prediction = np.argmax(output, axis=1)\n",
    "    labels = ['A','B','C']\n",
    "    plt.imshow(image.reshape(5, 6), cmap ='gray')\n",
    "    plt.title(f\"Predicted:{labels[prediction[0]]}\")\n",
    "    plt.show()"
   ]
  },
  {
   "cell_type": "markdown",
   "id": "bda8f6ea",
   "metadata": {},
   "source": [
    "### Testing\n",
    "- Now we run the prediction for each letter and display the results"
   ]
  },
  {
   "cell_type": "code",
   "execution_count": 27,
   "id": "3fe3bc72",
   "metadata": {},
   "outputs": [
    {
     "name": "stdout",
     "output_type": "stream",
     "text": [
      "Testing Predictions\n"
     ]
    },
    {
     "data": {
      "image/png": "[encoded data removed]",
      "text/plain": [
       "<Figure size 640x480 with 1 Axes>"
      ]
     },
     "metadata": {},
     "output_type": "display_data"
    },
    {
     "data": {
      "image/png": "[encoded data removed]",
      "text/plain": [
       "<Figure size 640x480 with 1 Axes>"
      ]
     },
     "metadata": {},
     "output_type": "display_data"
    },
    {
     "data": {
      "image/png": "[encoded data removed]",
      "text/plain": [
       "<Figure size 640x480 with 1 Axes>"
      ]
     },
     "metadata": {},
     "output_type": "display_data"
    }
   ],
   "source": [
    "print(\"Testing Predictions\")\n",
    "predict(np.array(A))\n",
    "predict(np.array(B))\n",
    "predict(np.array(C))"
   ]
  }
 ],
 "metadata": {
  "kernelspec": {
   "display_name": "Python 3",
   "language": "python",
   "name": "python3"
  },
  "language_info": {
   "codemirror_mode": {
    "name": "ipython",
    "version": 3
   },
   "file_extension": ".py",
   "mimetype": "text/x-python",
   "name": "python",
   "nbconvert_exporter": "python",
   "pygments_lexer": "ipython3",
   "version": "3.13.3"
  }
 },
 "nbformat": 4,
 "nbformat_minor": 5
}
